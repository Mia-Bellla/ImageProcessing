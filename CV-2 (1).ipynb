{
 "cells": [
  {
   "cell_type": "code",
   "execution_count": null,
   "id": "d188437b",
   "metadata": {},
   "outputs": [],
   "source": [
    "import cv2\n",
    "\n",
    "# Read the image\n",
    "img = cv2.imread('nature.jpg')\n",
    "\n",
    "# Check if the image is loaded correctly\n",
    "if img is None:\n",
    "    print(\"Image not found!\")\n",
    "else:\n",
    "    # Get the image dimensions\n",
    "    height, width, _ = img.shape\n",
    "\n",
    "    # Calculate the midpoints to split the image\n",
    "    mid_x, mid_y = width // 2, height // 2\n",
    "\n",
    "    # Split the image into 4 quadrants\n",
    "    top_left = img[:mid_y, :mid_x]      # Top-left quadrant\n",
    "    top_right = img[:mid_y, mid_x:]     # Top-right quadrant\n",
    "    bottom_left = img[mid_y:, :mid_x]   # Bottom-left quadrant\n",
    "    bottom_right = img[mid_y:, mid_x:]  # Bottom-right quadrant\n",
    "\n",
    "    # Show the quadrants\n",
    "    cv2.imshow('Top Left', top_left)\n",
    "    cv2.imshow('Top Right', top_right)\n",
    "    cv2.imshow('Bottom Left', bottom_left)\n",
    "    cv2.imshow('Bottom Right', bottom_right)\n",
    "\n",
    "    # Wait for a key press and close all windows\n",
    "    cv2.waitKey(0)\n",
    "    cv2.destroyAllWindows()\n"
   ]
  }
 ],
 "metadata": {
  "kernelspec": {
   "display_name": "Python 3 (ipykernel)",
   "language": "python",
   "name": "python3"
  },
  "language_info": {
   "codemirror_mode": {
    "name": "ipython",
    "version": 3
   },
   "file_extension": ".py",
   "mimetype": "text/x-python",
   "name": "python",
   "nbconvert_exporter": "python",
   "pygments_lexer": "ipython3",
   "version": "3.9.12"
  }
 },
 "nbformat": 4,
 "nbformat_minor": 5
}
