{
 "cells": [
  {
   "cell_type": "code",
   "execution_count": 3,
   "id": "fdc5e4bd",
   "metadata": {},
   "outputs": [
    {
     "name": "stdout",
     "output_type": "stream",
     "text": [
      "Collecting opencv-python\n",
      "  Downloading opencv_python-4.11.0.86-cp37-abi3-win_amd64.whl (39.5 MB)\n",
      "Requirement already satisfied: numpy>=1.17.3 in c:\\users\\sahyadri\\anaconda3\\lib\\site-packages (from opencv-python) (1.21.5)\n",
      "Installing collected packages: opencv-python\n",
      "Successfully installed opencv-python-4.11.0.86\n",
      "Note: you may need to restart the kernel to use updated packages.\n"
     ]
    }
   ],
   "source": [
    "pip install opencv-python"
   ]
  },
  {
   "cell_type": "code",
   "execution_count": 3,
   "id": "7aff52be",
   "metadata": {},
   "outputs": [],
   "source": [
    "import cv2\n",
    "import numpy as np\n",
    "\n",
    "# Load the image\n",
    "image = cv2.imread('butterfly.jpg')  # Replace with your image path\n",
    "\n",
    "# Rotate the image by 45 degrees\n",
    "(h, w) = image.shape[:2]\n",
    "center = (w // 2, h // 2)\n",
    "M_rotate = cv2.getRotationMatrix2D(center, 45, 1.0)\n",
    "rotated_image = cv2.warpAffine(image, M_rotate, (w, h))\n",
    "\n",
    "# Scale the image to 50%\n",
    "scaled_image = cv2.resize(image, (w // 2, h // 2))\n",
    "\n",
    "# Translate the image (shift by 50 pixels right and 50 pixels down)\n",
    "M_translate = np.float32([[1, 0, 50], [0, 1, 50]])\n",
    "translated_image = cv2.warpAffine(image, M_translate, (w, h))\n",
    "\n",
    "# Display the images\n",
    "cv2.imshow('Original Image', image)\n",
    "cv2.imshow('Rotated Image', rotated_image)\n",
    "cv2.imshow('Scaled Image', scaled_image)\n",
    "cv2.imshow('Translated Image', translated_image)\n",
    "\n",
    "cv2.waitKey(0)\n",
    "cv2.destroyAllWindows()+\n"
   ]
  },
  {
   "cell_type": "code",
   "execution_count": null,
   "id": "051ec9a3",
   "metadata": {},
   "outputs": [],
   "source": []
  }
 ],
 "metadata": {
  "kernelspec": {
   "display_name": "Python 3 (ipykernel)",
   "language": "python",
   "name": "python3"
  },
  "language_info": {
   "codemirror_mode": {
    "name": "ipython",
    "version": 3
   },
   "file_extension": ".py",
   "mimetype": "text/x-python",
   "name": "python",
   "nbconvert_exporter": "python",
   "pygments_lexer": "ipython3",
   "version": "3.9.12"
  }
 },
 "nbformat": 4,
 "nbformat_minor": 5
}
