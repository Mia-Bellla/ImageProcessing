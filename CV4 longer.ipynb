{
 "cells": [
  {
   "cell_type": "code",
   "execution_count": 4,
   "id": "05b58b6d",
   "metadata": {},
   "outputs": [],
   "source": [
    "import cv2\n",
    "import numpy as np\n",
    "\n",
    "# Load the image\n",
    "image_path = \"brain.jpg\"  # Replace with the path to your image\n",
    "img = cv2.imread(image_path)\n",
    "\n",
    "# Convert the image to grayscale\n",
    "gray = cv2.cvtColor(img, cv2.COLOR_BGR2GRAY)\n",
    "\n",
    "# Edge detection using Canny\n",
    "edges_canny = cv2.Canny(gray, 100, 200)\n",
    "\n",
    "# Sobel edge detection (Gradient in X and Y direction)\n",
    "sobel_x = cv2.Sobel(gray, cv2.CV_64F, 1, 0, ksize=3)\n",
    "sobel_y = cv2.Sobel(gray, cv2.CV_64F, 0, 1, ksize=3)\n",
    "\n",
    "# Combine the Sobel gradients to get the overall magnitude of the edges\n",
    "sobel_edges = cv2.magnitude(sobel_x, sobel_y)\n",
    "\n",
    "# Laplacian edge detection\n",
    "laplacian = cv2.Laplacian(gray, cv2.CV_64F)\n",
    "\n",
    "# Texture extraction using an averaging filter\n",
    "kernel = np.ones((5, 5), np.float32) / 25\n",
    "texture = cv2.filter2D(gray, -1, kernel)\n",
    "\n",
    "# Convert back to uint8 (0-255 range) for display purposes\n",
    "sobel_edges = cv2.convertScaleAbs(sobel_edges)\n",
    "laplacian = cv2.convertScaleAbs(laplacian)\n",
    "\n",
    "# Display the original image, edges, Sobel, and Laplacian results\n",
    "cv2.imshow(\"Original Image\", img)\n",
    "cv2.imshow(\"Canny Edges\", edges_canny)\n",
    "cv2.imshow(\"Sobel Edges\", sobel_edges)\n",
    "cv2.imshow(\"Laplacian Edges\", laplacian)\n",
    "cv2.imshow(\"Texture\", texture)\n",
    "\n",
    "# Wait for a key press and then close all windows\n",
    "cv2.waitKey(0)\n",
    "cv2.destroyAllWindows()"
   ]
  }
 ],
 "metadata": {
  "kernelspec": {
   "display_name": "Python 3 (ipykernel)",
   "language": "python",
   "name": "python3"
  },
  "language_info": {
   "codemirror_mode": {
    "name": "ipython",
    "version": 3
   },
   "file_extension": ".py",
   "mimetype": "text/x-python",
   "name": "python",
   "nbconvert_exporter": "python",
   "pygments_lexer": "ipython3",
   "version": "3.9.12"
  }
 },
 "nbformat": 4,
 "nbformat_minor": 5
}
