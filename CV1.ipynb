{
 "cells": [
  {
   "cell_type": "code",
   "execution_count": 2,
   "id": "2002d835",
   "metadata": {},
   "outputs": [
    {
     "name": "stdout",
     "output_type": "stream",
     "text": [
      "Collecting opencv-python\n",
      "  Downloading opencv_python-4.11.0.86-cp37-abi3-win_amd64.whl (39.5 MB)\n",
      "Requirement already satisfied: numpy>=1.17.3 in c:\\users\\sahyadri\\anaconda3\\lib\\site-packages (from opencv-python) (1.21.5)\n",
      "Installing collected packages: opencv-python\n",
      "Successfully installed opencv-python-4.11.0.86\n",
      "Note: you may need to restart the kernel to use updated packages.\n"
     ]
    }
   ],
   "source": [
    "pip install opencv-python \n"
   ]
  },
  {
   "cell_type": "code",
   "execution_count": 6,
   "id": "40cb7877",
   "metadata": {},
   "outputs": [],
   "source": [
    "import cv2\n",
    "\n",
    "# Read the image\n",
    "image = cv2.imread('panda.jpg')\n",
    "\n",
    "#show the image\n",
    "cv2.imshow(\"Original Image\",image)\n",
    "\n",
    "# Convert to gray scale\n",
    "gray = cv2.cvtColor(image, cv2.COLOR_BGR2GRAY)\n",
    "\n",
    "# Apply median blur\n",
    "gray = cv2.medianBlur(gray, 5)\n",
    "\n",
    "#show the grey image\n",
    "cv2.imshow(\"GreyScale Image\",gray)\n",
    "\n",
    "# Detect edges\n",
    "edges = cv2.adaptiveThreshold(gray, 255, cv2.ADAPTIVE_THRESH_MEAN_C, \n",
    "                              cv2.THRESH_BINARY, 9, 9)\n",
    "\n",
    "#show the edges\n",
    "cv2.imshow(\"Edges Image\",edges)\n",
    "\n",
    "# Apply bilateral filter to color image\n",
    "color = cv2.bilateralFilter(image, 9, 300, 300)\n",
    "\n",
    "# Combine edges and color image\n",
    "cartoon = cv2.bitwise_and(color, color, mask=edges)\n",
    "\n",
    "# Display the cartoon image\n",
    "cv2.imshow(\"Cartoon Image\", cartoon)\n",
    "cv2.waitKey(0)\n",
    "cv2.destroyAllWindows()\n"
   ]
  },
  {
   "cell_type": "code",
   "execution_count": null,
   "id": "b441e528",
   "metadata": {},
   "outputs": [],
   "source": []
  }
 ],
 "metadata": {
  "kernelspec": {
   "display_name": "Python 3 (ipykernel)",
   "language": "python",
   "name": "python3"
  },
  "language_info": {
   "codemirror_mode": {
    "name": "ipython",
    "version": 3
   },
   "file_extension": ".py",
   "mimetype": "text/x-python",
   "name": "python",
   "nbconvert_exporter": "python",
   "pygments_lexer": "ipython3",
   "version": "3.9.12"
  }
 },
 "nbformat": 4,
 "nbformat_minor": 5
}
