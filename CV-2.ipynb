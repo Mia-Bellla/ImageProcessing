{
 "cells": [
  {
   "cell_type": "code",
   "execution_count": null,
   "id": "b3cb95e2",
   "metadata": {},
   "outputs": [],
   "source": [
    "import cv2\n",
    "import numpy as np\n",
    "\n",
    "def divide_img_blocks(img, n_blocks=(2,2)):\n",
    "    horizontal = np.array_split(img, n_blocks[0])\n",
    "    splitted_img = [np.array_split(block, n_blocks[1], axis=1) for block in horizontal]\n",
    "    return splitted_img\n",
    "\n",
    "img = cv2.imread('nature.jpg')\n",
    "result = divide_img_blocks(img)\n",
    "\n",
    "# Display the blocks in separate windows\n",
    "for i in range(len(result)):\n",
    "    for j in range(len(result[i])):\n",
    "        cv2.imshow(f\"Block {i}_{j}\", result[i][j])\n",
    "\n",
    "# Wait for any key press to close the windows\n",
    "cv2.waitKey(0)\n",
    "cv2.destroyAllWindows()"
   ]
  }
 ],
 "metadata": {
  "kernelspec": {
   "display_name": "Python 3 (ipykernel)",
   "language": "python",
   "name": "python3"
  },
  "language_info": {
   "codemirror_mode": {
    "name": "ipython",
    "version": 3
   },
   "file_extension": ".py",
   "mimetype": "text/x-python",
   "name": "python",
   "nbconvert_exporter": "python",
   "pygments_lexer": "ipython3",
   "version": "3.9.12"
  }
 },
 "nbformat": 4,
 "nbformat_minor": 5
}
